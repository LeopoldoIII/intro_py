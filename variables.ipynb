{
 "cells": [
  {
   "cell_type": "markdown",
   "metadata": {},
   "source": [
    "# python Data types "
   ]
  },
  {
   "cell_type": "code",
   "execution_count": null,
   "metadata": {},
   "outputs": [],
   "source": [
    "\n",
    "value_string = 'hola'\n",
    "value_number = 2\n",
    "value_float = 1.2\n"
   ]
  },
  {
   "cell_type": "markdown",
   "metadata": {},
   "source": [
    "# Array"
   ]
  },
  {
   "cell_type": "code",
   "execution_count": 2,
   "metadata": {},
   "outputs": [],
   "source": [
    "test_array = [value_string, value_number, value_float]\n",
    "test_num = [0,2,3,4,5,6,7] "
   ]
  },
  {
   "cell_type": "code",
   "execution_count": 3,
   "metadata": {},
   "outputs": [],
   "source": [
    "test_array = [value_string, value_number, 'test']\n"
   ]
  },
  {
   "cell_type": "code",
   "execution_count": 4,
   "metadata": {},
   "outputs": [
    {
     "name": "stdout",
     "output_type": "stream",
     "text": [
      "hola\n",
      "['hola', 2, 'test']\n",
      "[0, 2, 3, 4, 5, 6, 7]\n"
     ]
    },
    {
     "data": {
      "text/plain": [
       "27"
      ]
     },
     "execution_count": 4,
     "metadata": {},
     "output_type": "execute_result"
    }
   ],
   "source": [
    "\n",
    "print(test_array[0])\n",
    "\n",
    "print(test_array)\n",
    "print(test_num)\n",
    "\n",
    "sum(test_num)"
   ]
  },
  {
   "cell_type": "code",
   "execution_count": 5,
   "metadata": {},
   "outputs": [
    {
     "name": "stdout",
     "output_type": "stream",
     "text": [
      "['hola', 2, 'test']\n"
     ]
    }
   ],
   "source": [
    "len(test_array)\n",
    "print(test_array)"
   ]
  },
  {
   "cell_type": "markdown",
   "metadata": {},
   "source": [
    "# Tuple\n"
   ]
  },
  {
   "cell_type": "code",
   "execution_count": 6,
   "metadata": {},
   "outputs": [
    {
     "name": "stdout",
     "output_type": "stream",
     "text": [
      "(1, 2, 3, 1)\n"
     ]
    }
   ],
   "source": [
    "# tuple\n",
    "test_tuple = (1, 2, 3, 1)\n",
    "print(test_tuple) "
   ]
  },
  {
   "cell_type": "code",
   "execution_count": 7,
   "metadata": {},
   "outputs": [
    {
     "data": {
      "text/plain": [
       "1"
      ]
     },
     "execution_count": 7,
     "metadata": {},
     "output_type": "execute_result"
    }
   ],
   "source": [
    "test_tuple[0]"
   ]
  },
  {
   "cell_type": "markdown",
   "metadata": {},
   "source": [
    "# Dictionarie "
   ]
  },
  {
   "cell_type": "code",
   "execution_count": 8,
   "metadata": {},
   "outputs": [],
   "source": [
    "test_dic = {\n",
    "    \"uno\" : 1,\n",
    "    \"dos\" : 2,\n",
    "}"
   ]
  },
  {
   "cell_type": "code",
   "execution_count": 9,
   "metadata": {},
   "outputs": [
    {
     "data": {
      "text/plain": [
       "1"
      ]
     },
     "execution_count": 9,
     "metadata": {},
     "output_type": "execute_result"
    }
   ],
   "source": [
    "test_dic['uno']"
   ]
  },
  {
   "cell_type": "code",
   "execution_count": 10,
   "metadata": {},
   "outputs": [],
   "source": [
    "rh_data = {\n",
    "    \"departameto\" : \"RH\",\n",
    "    \"empleados\" : ['juan', 'pedro', 'paco'],\n",
    "    \"nivel\": 123\n",
    "}\n",
    "\n",
    "\n",
    "servers = {\n",
    "    \"windows\" : ['server-0', 'server-1', 'server-2'],\n",
    "    \"linux\" : ['server-0', 'server-1'],\n",
    "    \"usuarios\": ['juan', 'pedro', 'paco', 'admin']\n",
    "}"
   ]
  },
  {
   "cell_type": "code",
   "execution_count": 11,
   "metadata": {},
   "outputs": [
    {
     "name": "stdout",
     "output_type": "stream",
     "text": [
      "<class 'list'>\n",
      "<class 'dict'>\n",
      "<class 'list'>\n"
     ]
    },
    {
     "data": {
      "text/plain": [
       "['server-0', 'server-1', 'server-2']"
      ]
     },
     "execution_count": 11,
     "metadata": {},
     "output_type": "execute_result"
    }
   ],
   "source": [
    "print(type(test_num))\n",
    "print(type(servers))\n",
    "\n",
    "print(type(servers['windows']))\n",
    "servers['windows']\n"
   ]
  },
  {
   "cell_type": "code",
   "execution_count": 12,
   "metadata": {},
   "outputs": [
    {
     "name": "stdout",
     "output_type": "stream",
     "text": [
      "server-0\n",
      "server-1\n",
      "server-2\n",
      "0\n",
      "2\n",
      "3\n",
      "4\n",
      "5\n",
      "6\n",
      "7\n"
     ]
    }
   ],
   "source": [
    "for server in servers['windows']:\n",
    "    print(server)\n",
    "\n",
    "\n",
    "for number in test_num:\n",
    "    print(number) \n",
    "\n",
    "\n",
    "\n",
    "\n"
   ]
  },
  {
   "cell_type": "code",
   "execution_count": 13,
   "metadata": {},
   "outputs": [
    {
     "name": "stdout",
     "output_type": "stream",
     "text": [
      "windows ['server-0', 'server-1', 'server-2']\n",
      "linux ['server-0', 'server-1']\n",
      "usuarios ['juan', 'pedro', 'paco', 'admin']\n"
     ]
    }
   ],
   "source": [
    "for key, value in servers.items():\n",
    "    print(key, value)\n",
    "\n",
    "\n",
    "\n",
    "\n",
    "\n"
   ]
  },
  {
   "cell_type": "code",
   "execution_count": 15,
   "metadata": {},
   "outputs": [
    {
     "name": "stdout",
     "output_type": "stream",
     "text": [
      "0 windows\n",
      "0\n",
      "1 linux\n",
      "1\n",
      "2 usuarios\n",
      "2\n"
     ]
    }
   ],
   "source": [
    "\n",
    "for index, key in enumerate(servers):\n",
    "    print(index, key)\n",
    "    print(index)"
   ]
  }
 ],
 "metadata": {
  "kernelspec": {
   "display_name": "Python 3.7.0 ('venv': venv)",
   "language": "python",
   "name": "python3"
  },
  "language_info": {
   "codemirror_mode": {
    "name": "ipython",
    "version": 3
   },
   "file_extension": ".py",
   "mimetype": "text/x-python",
   "name": "python",
   "nbconvert_exporter": "python",
   "pygments_lexer": "ipython3",
   "version": "3.7.0"
  },
  "orig_nbformat": 4,
  "vscode": {
   "interpreter": {
    "hash": "add6d8302f5ca007a1a691f6235f945647d588b126d5053fb5971848cb0743d6"
   }
  }
 },
 "nbformat": 4,
 "nbformat_minor": 2
}
