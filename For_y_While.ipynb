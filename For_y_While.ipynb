{
 "cells": [
  {
   "cell_type": "markdown",
   "metadata": {},
   "source": [
    "# Función FOR"
   ]
  },
  {
   "cell_type": "code",
   "execution_count": 54,
   "metadata": {},
   "outputs": [
    {
     "name": "stdout",
     "output_type": "stream",
     "text": [
      "1\n",
      "2\n",
      "3\n",
      "4\n",
      "5\n",
      "6\n",
      "7\n",
      "8\n",
      "9\n",
      "10\n"
     ]
    }
   ],
   "source": [
    "lista = [1,2,3,4,5,6,7,8,9,10]\n",
    "\n",
    "for valor in lista:\n",
    "    print(valor)"
   ]
  },
  {
   "cell_type": "markdown",
   "metadata": {},
   "source": [
    "## Range"
   ]
  },
  {
   "cell_type": "code",
   "execution_count": 1,
   "metadata": {},
   "outputs": [
    {
     "name": "stdout",
     "output_type": "stream",
     "text": [
      "0\n",
      "1\n",
      "2\n",
      "3\n",
      "4\n",
      "5\n",
      "6\n",
      "7\n",
      "8\n",
      "9\n",
      "0\n",
      "1\n",
      "2\n",
      "3\n",
      "4\n",
      "5\n",
      "6\n",
      "7\n",
      "8\n",
      "9\n",
      "0\n",
      "2\n",
      "4\n",
      "6\n",
      "8\n",
      "10\n",
      "12\n",
      "14\n",
      "16\n",
      "18\n"
     ]
    }
   ],
   "source": [
    "nuevo_rango = range(0,10)\n",
    "for valor in nuevo_rango:\n",
    "    print(valor)\n",
    "\n",
    "nuevo_rango = range(10)\n",
    "for valor in nuevo_rango:\n",
    "    print(valor)\n",
    "\n",
    "\n",
    "for valor in range(0,20,2):\n",
    "    print(valor)"
   ]
  },
  {
   "cell_type": "markdown",
   "metadata": {},
   "source": [
    "## Ejemplos (indices, lenght, for para strings, diccionarios)"
   ]
  },
  {
   "cell_type": "code",
   "execution_count": 56,
   "metadata": {},
   "outputs": [
    {
     "name": "stdout",
     "output_type": "stream",
     "text": [
      "10\n",
      "20\n",
      "30\n"
     ]
    }
   ],
   "source": [
    "#indice = 0\n",
    "\n",
    "for valor in lista:\n",
    "    pass #print(valor, \"tiene el indice\", indice)\n",
    "    #indice += 1\n",
    "\n",
    "#Con enumerate\n",
    "for indice, valor in enumerate(lista):\n",
    "    pass #print(valor, \"tiene el indice\", indice)\n",
    "\n",
    "#lenght\n",
    "lista = [1,4,5,7,10,14,16]\n",
    "for valor in range(0, len(lista)):\n",
    "    pass #print(valor)\n",
    "\n",
    "#For para strings\n",
    "for valor in \"Hola Luis!\": #Valores string son iterables, los números NO\n",
    "    pass #print(valor)\n",
    "\n",
    "#diccionario.items\n",
    "diccionario = {'a' : 10, \"b\" : 20, \"c\" : 30}\n",
    "for llave, valor in diccionario.items():\n",
    "    pass #print(\"la llave\", llave, \"tiene valor de\", valor)\n",
    "\n",
    "#diccionario.keys\n",
    "diccionario = {'a' : 10, \"b\" : 20, \"c\" : 30}\n",
    "for llave in diccionario.keys():\n",
    "    pass #print(llave)\n",
    "\n",
    "#diccionario.values\n",
    "diccionario = {'a' : 10, \"b\" : 20, \"c\" : 30}\n",
    "for valor in diccionario.values():\n",
    "    print(valor)"
   ]
  },
  {
   "cell_type": "markdown",
   "metadata": {},
   "source": [
    "# Función WHILE"
   ]
  },
  {
   "cell_type": "code",
   "execution_count": 57,
   "metadata": {},
   "outputs": [
    {
     "name": "stdout",
     "output_type": "stream",
     "text": [
      "0\n",
      "1\n",
      "2\n",
      "3\n",
      "4\n",
      "5\n",
      "6\n",
      "7\n",
      "8\n",
      "9\n",
      "El While ha terminado\n"
     ]
    }
   ],
   "source": [
    "contador = 0\n",
    "\n",
    "while contador < 10: #> >= <= == != \n",
    "    print(contador)\n",
    "    contador +=1 #contador = contador + 1\n",
    "else:\n",
    "    print(\"El While ha terminado\")\n"
   ]
  },
  {
   "cell_type": "markdown",
   "metadata": {},
   "source": [
    "## Ejemplos con continue, break y terminar While con True, False"
   ]
  },
  {
   "cell_type": "code",
   "execution_count": 58,
   "metadata": {},
   "outputs": [
    {
     "name": "stdout",
     "output_type": "stream",
     "text": [
      "0\n",
      "1\n",
      "2\n",
      "3\n",
      "4\n",
      "5\n",
      "El While ha terminado\n"
     ]
    }
   ],
   "source": [
    "#While con continue y break\n",
    "#contador = 0\n",
    "#while contador < 10: #> >= <= == != \n",
    "    #print(contador)\n",
    "    #contador +=1 #contador = contador + 1\n",
    "    #if contador == 5:\n",
    "        #print(\"Estamos en el numero 5\")\n",
    "        #continue #continua ciclo \n",
    "    #if contador == 6:\n",
    "        #break #termina ciclo de manera abrupta\n",
    "#else:\n",
    "    #print(\"El While ha terminado\")\n",
    "\n",
    "#Terminar de una forma no abrupta el While\n",
    "contador = 0\n",
    "bandera = True\n",
    "\n",
    "while bandera: #> >= <= == != \n",
    "    print(contador)\n",
    "    contador +=1 #contador = contador + 1\n",
    "    if contador == 6:\n",
    "        bandera = False\n",
    "else:\n",
    "    print(\"El While ha terminado\")"
   ]
  }
 ],
 "metadata": {
  "kernelspec": {
   "display_name": "Python 3.7.0 ('venv': venv)",
   "language": "python",
   "name": "python3"
  },
  "language_info": {
   "codemirror_mode": {
    "name": "ipython",
    "version": 3
   },
   "file_extension": ".py",
   "mimetype": "text/x-python",
   "name": "python",
   "nbconvert_exporter": "python",
   "pygments_lexer": "ipython3",
   "version": "3.7.0"
  },
  "orig_nbformat": 4,
  "vscode": {
   "interpreter": {
    "hash": "add6d8302f5ca007a1a691f6235f945647d588b126d5053fb5971848cb0743d6"
   }
  }
 },
 "nbformat": 4,
 "nbformat_minor": 2
}
